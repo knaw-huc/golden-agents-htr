{
 "cells": [
  {
   "cell_type": "code",
   "execution_count": 3,
   "id": "starting-black",
   "metadata": {},
   "outputs": [],
   "source": [
    "from gensim.models import Word2Vec\n",
    "from gensim.corpora.textcorpus import TextDirectoryCorpus\n",
    "from gensim.corpora import MmCorpus\n",
    "\n",
    "import logging\n",
    "logging.basicConfig(format='%(asctime)s : %(levelname)s : %(message)s', level=logging.INFO)"
   ]
  },
  {
   "cell_type": "code",
   "execution_count": 5,
   "id": "proper-luther",
   "metadata": {},
   "outputs": [],
   "source": [
    "corpus = TextDirectoryCorpus('text')"
   ]
  },
  {
   "cell_type": "code",
   "execution_count": 8,
   "id": "signed-cartridge",
   "metadata": {
    "tags": [
     "outputPrepend"
    ]
   },
   "outputs": [
    {
     "output_type": "stream",
     "name": "stderr",
     "text": [
      "215 : INFO : EPOCH 3 - PROGRESS: at 35.88% examples, 574434 words/s, in_qsize 0, out_qsize 0\n",
      "2021-05-07 11:17:55,221 : INFO : EPOCH 3 - PROGRESS: at 37.61% examples, 573445 words/s, in_qsize 0, out_qsize 0\n",
      "2021-05-07 11:17:56,258 : INFO : EPOCH 3 - PROGRESS: at 39.43% examples, 573284 words/s, in_qsize 0, out_qsize 1\n",
      "2021-05-07 11:17:57,260 : INFO : EPOCH 3 - PROGRESS: at 41.21% examples, 573399 words/s, in_qsize 0, out_qsize 0\n",
      "2021-05-07 11:17:58,279 : INFO : EPOCH 3 - PROGRESS: at 42.91% examples, 572260 words/s, in_qsize 0, out_qsize 0\n",
      "2021-05-07 11:17:59,289 : INFO : EPOCH 3 - PROGRESS: at 44.73% examples, 572860 words/s, in_qsize 0, out_qsize 0\n",
      "2021-05-07 11:18:00,307 : INFO : EPOCH 3 - PROGRESS: at 46.43% examples, 571518 words/s, in_qsize 0, out_qsize 0\n",
      "2021-05-07 11:18:01,308 : INFO : EPOCH 3 - PROGRESS: at 48.20% examples, 571638 words/s, in_qsize 0, out_qsize 0\n",
      "2021-05-07 11:18:02,316 : INFO : EPOCH 3 - PROGRESS: at 49.94% examples, 571019 words/s, in_qsize 0, out_qsize 0\n",
      "2021-05-07 11:18:03,321 : INFO : EPOCH 3 - PROGRESS: at 51.79% examples, 571648 words/s, in_qsize 0, out_qsize 0\n",
      "2021-05-07 11:18:04,333 : INFO : EPOCH 3 - PROGRESS: at 53.41% examples, 569804 words/s, in_qsize 0, out_qsize 0\n",
      "2021-05-07 11:18:05,345 : INFO : EPOCH 3 - PROGRESS: at 55.32% examples, 571187 words/s, in_qsize 0, out_qsize 0\n",
      "2021-05-07 11:18:06,372 : INFO : EPOCH 3 - PROGRESS: at 57.07% examples, 570678 words/s, in_qsize 0, out_qsize 0\n",
      "2021-05-07 11:18:07,386 : INFO : EPOCH 3 - PROGRESS: at 58.96% examples, 571625 words/s, in_qsize 0, out_qsize 0\n",
      "2021-05-07 11:18:08,398 : INFO : EPOCH 3 - PROGRESS: at 60.73% examples, 571354 words/s, in_qsize 1, out_qsize 0\n",
      "2021-05-07 11:18:09,412 : INFO : EPOCH 3 - PROGRESS: at 62.71% examples, 573000 words/s, in_qsize 0, out_qsize 0\n",
      "2021-05-07 11:18:10,420 : INFO : EPOCH 3 - PROGRESS: at 64.51% examples, 573282 words/s, in_qsize 0, out_qsize 1\n",
      "2021-05-07 11:18:11,456 : INFO : EPOCH 3 - PROGRESS: at 66.44% examples, 574073 words/s, in_qsize 0, out_qsize 2\n",
      "2021-05-07 11:18:12,461 : INFO : EPOCH 3 - PROGRESS: at 68.28% examples, 574612 words/s, in_qsize 0, out_qsize 0\n",
      "2021-05-07 11:18:13,485 : INFO : EPOCH 3 - PROGRESS: at 70.10% examples, 574570 words/s, in_qsize 0, out_qsize 0\n",
      "2021-05-07 11:18:14,501 : INFO : EPOCH 3 - PROGRESS: at 71.84% examples, 573954 words/s, in_qsize 0, out_qsize 1\n",
      "2021-05-07 11:18:15,530 : INFO : EPOCH 3 - PROGRESS: at 73.75% examples, 574505 words/s, in_qsize 0, out_qsize 2\n",
      "2021-05-07 11:18:16,530 : INFO : EPOCH 3 - PROGRESS: at 75.56% examples, 574610 words/s, in_qsize 3, out_qsize 1\n",
      "2021-05-07 11:18:17,545 : INFO : EPOCH 3 - PROGRESS: at 77.60% examples, 576396 words/s, in_qsize 0, out_qsize 0\n",
      "2021-05-07 11:18:18,579 : INFO : EPOCH 3 - PROGRESS: at 79.33% examples, 575546 words/s, in_qsize 9, out_qsize 0\n",
      "2021-05-07 11:18:19,595 : INFO : EPOCH 3 - PROGRESS: at 81.30% examples, 576828 words/s, in_qsize 0, out_qsize 0\n",
      "2021-05-07 11:18:20,607 : INFO : EPOCH 3 - PROGRESS: at 83.03% examples, 576332 words/s, in_qsize 0, out_qsize 0\n",
      "2021-05-07 11:18:21,611 : INFO : EPOCH 3 - PROGRESS: at 84.93% examples, 577277 words/s, in_qsize 0, out_qsize 0\n",
      "2021-05-07 11:18:22,612 : INFO : EPOCH 3 - PROGRESS: at 86.81% examples, 577862 words/s, in_qsize 0, out_qsize 0\n",
      "2021-05-07 11:18:23,624 : INFO : EPOCH 3 - PROGRESS: at 88.76% examples, 578651 words/s, in_qsize 0, out_qsize 0\n",
      "2021-05-07 11:18:24,655 : INFO : EPOCH 3 - PROGRESS: at 90.36% examples, 577172 words/s, in_qsize 0, out_qsize 7\n",
      "2021-05-07 11:18:25,670 : INFO : EPOCH 3 - PROGRESS: at 92.39% examples, 578636 words/s, in_qsize 7, out_qsize 0\n",
      "2021-05-07 11:18:26,695 : INFO : EPOCH 3 - PROGRESS: at 94.38% examples, 579752 words/s, in_qsize 2, out_qsize 0\n",
      "2021-05-07 11:18:27,719 : INFO : EPOCH 3 - PROGRESS: at 96.15% examples, 579267 words/s, in_qsize 5, out_qsize 1\n",
      "2021-05-07 11:18:28,743 : INFO : EPOCH 3 - PROGRESS: at 98.13% examples, 580156 words/s, in_qsize 0, out_qsize 0\n",
      "2021-05-07 11:18:29,689 : INFO : worker thread finished; awaiting finish of 9 more threads\n",
      "2021-05-07 11:18:29,692 : INFO : worker thread finished; awaiting finish of 8 more threads\n",
      "2021-05-07 11:18:29,692 : INFO : worker thread finished; awaiting finish of 7 more threads\n",
      "2021-05-07 11:18:29,693 : INFO : worker thread finished; awaiting finish of 6 more threads\n",
      "2021-05-07 11:18:29,693 : INFO : worker thread finished; awaiting finish of 5 more threads\n",
      "2021-05-07 11:18:29,694 : INFO : worker thread finished; awaiting finish of 4 more threads\n",
      "2021-05-07 11:18:29,694 : INFO : worker thread finished; awaiting finish of 3 more threads\n",
      "2021-05-07 11:18:29,695 : INFO : worker thread finished; awaiting finish of 2 more threads\n",
      "2021-05-07 11:18:29,706 : INFO : worker thread finished; awaiting finish of 1 more threads\n",
      "2021-05-07 11:18:29,709 : INFO : worker thread finished; awaiting finish of 0 more threads\n",
      "2021-05-07 11:18:29,710 : INFO : EPOCH - 3 : training on 35912536 raw words (32408656 effective words) took 55.8s, 580791 effective words/s\n",
      "2021-05-07 11:18:30,719 : INFO : EPOCH 4 - PROGRESS: at 1.68% examples, 539391 words/s, in_qsize 0, out_qsize 3\n",
      "2021-05-07 11:18:31,735 : INFO : EPOCH 4 - PROGRESS: at 3.43% examples, 552588 words/s, in_qsize 7, out_qsize 0\n",
      "2021-05-07 11:18:32,755 : INFO : EPOCH 4 - PROGRESS: at 5.22% examples, 558685 words/s, in_qsize 12, out_qsize 2\n",
      "2021-05-07 11:18:33,756 : INFO : EPOCH 4 - PROGRESS: at 7.27% examples, 586901 words/s, in_qsize 0, out_qsize 0\n",
      "2021-05-07 11:18:34,805 : INFO : EPOCH 4 - PROGRESS: at 8.97% examples, 573578 words/s, in_qsize 4, out_qsize 1\n",
      "2021-05-07 11:18:35,895 : INFO : EPOCH 4 - PROGRESS: at 10.81% examples, 569950 words/s, in_qsize 9, out_qsize 0\n",
      "2021-05-07 11:18:36,906 : INFO : EPOCH 4 - PROGRESS: at 12.60% examples, 571094 words/s, in_qsize 11, out_qsize 1\n",
      "2021-05-07 11:18:37,919 : INFO : EPOCH 4 - PROGRESS: at 14.38% examples, 571723 words/s, in_qsize 16, out_qsize 3\n",
      "2021-05-07 11:18:38,959 : INFO : EPOCH 4 - PROGRESS: at 16.25% examples, 573172 words/s, in_qsize 15, out_qsize 1\n",
      "2021-05-07 11:18:39,976 : INFO : EPOCH 4 - PROGRESS: at 18.11% examples, 575105 words/s, in_qsize 12, out_qsize 1\n",
      "2021-05-07 11:18:40,990 : INFO : EPOCH 4 - PROGRESS: at 20.08% examples, 579837 words/s, in_qsize 1, out_qsize 1\n",
      "2021-05-07 11:18:41,997 : INFO : EPOCH 4 - PROGRESS: at 21.87% examples, 580392 words/s, in_qsize 0, out_qsize 1\n",
      "2021-05-07 11:18:43,004 : INFO : EPOCH 4 - PROGRESS: at 23.68% examples, 579289 words/s, in_qsize 9, out_qsize 0\n",
      "2021-05-07 11:18:44,015 : INFO : EPOCH 4 - PROGRESS: at 25.36% examples, 576711 words/s, in_qsize 15, out_qsize 0\n",
      "2021-05-07 11:18:45,058 : INFO : EPOCH 4 - PROGRESS: at 27.16% examples, 575679 words/s, in_qsize 19, out_qsize 0\n",
      "2021-05-07 11:18:46,059 : INFO : EPOCH 4 - PROGRESS: at 29.04% examples, 577715 words/s, in_qsize 20, out_qsize 0\n",
      "2021-05-07 11:18:47,126 : INFO : EPOCH 4 - PROGRESS: at 30.89% examples, 577299 words/s, in_qsize 17, out_qsize 0\n",
      "2021-05-07 11:18:48,130 : INFO : EPOCH 4 - PROGRESS: at 32.84% examples, 580802 words/s, in_qsize 8, out_qsize 1\n",
      "2021-05-07 11:18:49,140 : INFO : EPOCH 4 - PROGRESS: at 34.86% examples, 583950 words/s, in_qsize 0, out_qsize 0\n",
      "2021-05-07 11:18:50,158 : INFO : EPOCH 4 - PROGRESS: at 36.65% examples, 582966 words/s, in_qsize 0, out_qsize 0\n",
      "2021-05-07 11:18:51,170 : INFO : EPOCH 4 - PROGRESS: at 38.33% examples, 580623 words/s, in_qsize 0, out_qsize 0\n",
      "2021-05-07 11:18:52,196 : INFO : EPOCH 4 - PROGRESS: at 39.91% examples, 576952 words/s, in_qsize 0, out_qsize 0\n",
      "2021-05-07 11:18:53,201 : INFO : EPOCH 4 - PROGRESS: at 41.74% examples, 577548 words/s, in_qsize 0, out_qsize 0\n",
      "2021-05-07 11:18:54,211 : INFO : EPOCH 4 - PROGRESS: at 43.53% examples, 577555 words/s, in_qsize 0, out_qsize 0\n",
      "2021-05-07 11:18:55,221 : INFO : EPOCH 4 - PROGRESS: at 45.23% examples, 576575 words/s, in_qsize 0, out_qsize 0\n",
      "2021-05-07 11:18:56,246 : INFO : EPOCH 4 - PROGRESS: at 46.97% examples, 575254 words/s, in_qsize 0, out_qsize 1\n",
      "2021-05-07 11:18:57,265 : INFO : EPOCH 4 - PROGRESS: at 48.52% examples, 572356 words/s, in_qsize 0, out_qsize 1\n",
      "2021-05-07 11:18:58,275 : INFO : EPOCH 4 - PROGRESS: at 50.15% examples, 570433 words/s, in_qsize 1, out_qsize 0\n",
      "2021-05-07 11:18:59,287 : INFO : EPOCH 4 - PROGRESS: at 51.92% examples, 570061 words/s, in_qsize 0, out_qsize 0\n",
      "2021-05-07 11:19:00,293 : INFO : EPOCH 4 - PROGRESS: at 53.62% examples, 569247 words/s, in_qsize 0, out_qsize 0\n",
      "2021-05-07 11:19:01,297 : INFO : EPOCH 4 - PROGRESS: at 55.25% examples, 568010 words/s, in_qsize 0, out_qsize 1\n",
      "2021-05-07 11:19:02,303 : INFO : EPOCH 4 - PROGRESS: at 57.00% examples, 567719 words/s, in_qsize 0, out_qsize 0\n",
      "2021-05-07 11:19:03,307 : INFO : EPOCH 4 - PROGRESS: at 58.51% examples, 565275 words/s, in_qsize 1, out_qsize 0\n",
      "2021-05-07 11:19:04,312 : INFO : EPOCH 4 - PROGRESS: at 60.40% examples, 566561 words/s, in_qsize 0, out_qsize 0\n",
      "2021-05-07 11:19:05,367 : INFO : EPOCH 4 - PROGRESS: at 62.10% examples, 564761 words/s, in_qsize 0, out_qsize 5\n",
      "2021-05-07 11:19:06,378 : INFO : EPOCH 4 - PROGRESS: at 64.19% examples, 568111 words/s, in_qsize 0, out_qsize 0\n",
      "2021-05-07 11:19:07,380 : INFO : EPOCH 4 - PROGRESS: at 66.07% examples, 569091 words/s, in_qsize 1, out_qsize 0\n",
      "2021-05-07 11:19:08,380 : INFO : EPOCH 4 - PROGRESS: at 67.87% examples, 569573 words/s, in_qsize 0, out_qsize 0\n",
      "2021-05-07 11:19:09,387 : INFO : EPOCH 4 - PROGRESS: at 69.76% examples, 570388 words/s, in_qsize 0, out_qsize 0\n",
      "2021-05-07 11:19:10,389 : INFO : EPOCH 4 - PROGRESS: at 71.61% examples, 570982 words/s, in_qsize 0, out_qsize 0\n",
      "2021-05-07 11:19:11,409 : INFO : EPOCH 4 - PROGRESS: at 73.55% examples, 571960 words/s, in_qsize 0, out_qsize 0\n",
      "2021-05-07 11:19:12,437 : INFO : EPOCH 4 - PROGRESS: at 75.47% examples, 572623 words/s, in_qsize 0, out_qsize 1\n",
      "2021-05-07 11:19:13,483 : INFO : EPOCH 4 - PROGRESS: at 77.34% examples, 572771 words/s, in_qsize 4, out_qsize 1\n",
      "2021-05-07 11:19:14,500 : INFO : EPOCH 4 - PROGRESS: at 79.42% examples, 574707 words/s, in_qsize 0, out_qsize 0\n",
      "2021-05-07 11:19:15,505 : INFO : EPOCH 4 - PROGRESS: at 81.30% examples, 575536 words/s, in_qsize 0, out_qsize 0\n",
      "2021-05-07 11:19:16,516 : INFO : EPOCH 4 - PROGRESS: at 83.09% examples, 575478 words/s, in_qsize 6, out_qsize 0\n",
      "2021-05-07 11:19:17,529 : INFO : EPOCH 4 - PROGRESS: at 84.90% examples, 575749 words/s, in_qsize 0, out_qsize 0\n",
      "2021-05-07 11:19:18,579 : INFO : EPOCH 4 - PROGRESS: at 86.72% examples, 575388 words/s, in_qsize 6, out_qsize 4\n",
      "2021-05-07 11:19:19,597 : INFO : EPOCH 4 - PROGRESS: at 88.85% examples, 577287 words/s, in_qsize 0, out_qsize 1\n",
      "2021-05-07 11:19:20,679 : INFO : EPOCH 4 - PROGRESS: at 90.76% examples, 577280 words/s, in_qsize 0, out_qsize 5\n",
      "2021-05-07 11:19:21,698 : INFO : EPOCH 4 - PROGRESS: at 92.76% examples, 578506 words/s, in_qsize 5, out_qsize 0\n",
      "2021-05-07 11:19:22,708 : INFO : EPOCH 4 - PROGRESS: at 94.70% examples, 579433 words/s, in_qsize 0, out_qsize 0\n",
      "2021-05-07 11:19:23,723 : INFO : EPOCH 4 - PROGRESS: at 96.74% examples, 580598 words/s, in_qsize 0, out_qsize 0\n",
      "2021-05-07 11:19:24,730 : INFO : EPOCH 4 - PROGRESS: at 98.45% examples, 580116 words/s, in_qsize 2, out_qsize 1\n",
      "2021-05-07 11:19:25,503 : INFO : worker thread finished; awaiting finish of 9 more threads\n",
      "2021-05-07 11:19:25,523 : INFO : worker thread finished; awaiting finish of 8 more threads\n",
      "2021-05-07 11:19:25,528 : INFO : worker thread finished; awaiting finish of 7 more threads\n",
      "2021-05-07 11:19:25,529 : INFO : worker thread finished; awaiting finish of 6 more threads\n",
      "2021-05-07 11:19:25,530 : INFO : worker thread finished; awaiting finish of 5 more threads\n",
      "2021-05-07 11:19:25,531 : INFO : worker thread finished; awaiting finish of 4 more threads\n",
      "2021-05-07 11:19:25,547 : INFO : worker thread finished; awaiting finish of 3 more threads\n",
      "2021-05-07 11:19:25,553 : INFO : worker thread finished; awaiting finish of 2 more threads\n",
      "2021-05-07 11:19:25,561 : INFO : worker thread finished; awaiting finish of 1 more threads\n",
      "2021-05-07 11:19:25,565 : INFO : worker thread finished; awaiting finish of 0 more threads\n",
      "2021-05-07 11:19:25,566 : INFO : EPOCH - 4 : training on 35912536 raw words (32408656 effective words) took 55.8s, 580282 effective words/s\n",
      "2021-05-07 11:19:26,583 : INFO : EPOCH 5 - PROGRESS: at 1.87% examples, 593420 words/s, in_qsize 0, out_qsize 0\n",
      "2021-05-07 11:19:27,612 : INFO : EPOCH 5 - PROGRESS: at 3.55% examples, 563339 words/s, in_qsize 11, out_qsize 1\n",
      "2021-05-07 11:19:28,630 : INFO : EPOCH 5 - PROGRESS: at 5.45% examples, 577401 words/s, in_qsize 12, out_qsize 1\n",
      "2021-05-07 11:19:29,669 : INFO : EPOCH 5 - PROGRESS: at 7.37% examples, 586874 words/s, in_qsize 3, out_qsize 2\n",
      "2021-05-07 11:19:30,686 : INFO : EPOCH 5 - PROGRESS: at 9.23% examples, 587411 words/s, in_qsize 9, out_qsize 0\n",
      "2021-05-07 11:19:31,694 : INFO : EPOCH 5 - PROGRESS: at 11.02% examples, 586363 words/s, in_qsize 11, out_qsize 0\n",
      "2021-05-07 11:19:32,752 : INFO : EPOCH 5 - PROGRESS: at 12.84% examples, 582606 words/s, in_qsize 3, out_qsize 1\n",
      "2021-05-07 11:19:33,761 : INFO : EPOCH 5 - PROGRESS: at 14.66% examples, 582935 words/s, in_qsize 2, out_qsize 0\n",
      "2021-05-07 11:19:34,783 : INFO : EPOCH 5 - PROGRESS: at 16.41% examples, 580672 words/s, in_qsize 12, out_qsize 1\n",
      "2021-05-07 11:19:35,789 : INFO : EPOCH 5 - PROGRESS: at 18.22% examples, 580807 words/s, in_qsize 13, out_qsize 1\n",
      "2021-05-07 11:19:36,810 : INFO : EPOCH 5 - PROGRESS: at 20.08% examples, 581534 words/s, in_qsize 10, out_qsize 2\n",
      "2021-05-07 11:19:37,819 : INFO : EPOCH 5 - PROGRESS: at 22.01% examples, 585403 words/s, in_qsize 0, out_qsize 0\n",
      "2021-05-07 11:19:38,825 : INFO : EPOCH 5 - PROGRESS: at 23.99% examples, 587969 words/s, in_qsize 0, out_qsize 0\n",
      "2021-05-07 11:19:39,841 : INFO : EPOCH 5 - PROGRESS: at 25.58% examples, 582714 words/s, in_qsize 11, out_qsize 1\n",
      "2021-05-07 11:19:40,879 : INFO : EPOCH 5 - PROGRESS: at 27.27% examples, 579172 words/s, in_qsize 15, out_qsize 0\n",
      "2021-05-07 11:19:41,881 : INFO : EPOCH 5 - PROGRESS: at 29.40% examples, 585755 words/s, in_qsize 0, out_qsize 0\n",
      "2021-05-07 11:19:42,883 : INFO : EPOCH 5 - PROGRESS: at 31.12% examples, 584962 words/s, in_qsize 0, out_qsize 0\n",
      "2021-05-07 11:19:43,896 : INFO : EPOCH 5 - PROGRESS: at 32.76% examples, 582131 words/s, in_qsize 2, out_qsize 2\n",
      "2021-05-07 11:19:44,900 : INFO : EPOCH 5 - PROGRESS: at 34.68% examples, 583590 words/s, in_qsize 1, out_qsize 1\n",
      "2021-05-07 11:19:45,927 : INFO : EPOCH 5 - PROGRESS: at 36.49% examples, 582800 words/s, in_qsize 5, out_qsize 1\n",
      "2021-05-07 11:19:46,950 : INFO : EPOCH 5 - PROGRESS: at 38.54% examples, 585879 words/s, in_qsize 2, out_qsize 0\n",
      "2021-05-07 11:19:47,962 : INFO : EPOCH 5 - PROGRESS: at 40.18% examples, 583136 words/s, in_qsize 8, out_qsize 0\n",
      "2021-05-07 11:19:48,991 : INFO : EPOCH 5 - PROGRESS: at 42.17% examples, 585033 words/s, in_qsize 0, out_qsize 1\n",
      "2021-05-07 11:19:50,020 : INFO : EPOCH 5 - PROGRESS: at 43.83% examples, 582532 words/s, in_qsize 4, out_qsize 3\n",
      "2021-05-07 11:19:51,030 : INFO : EPOCH 5 - PROGRESS: at 45.81% examples, 584739 words/s, in_qsize 0, out_qsize 0\n",
      "2021-05-07 11:19:52,056 : INFO : EPOCH 5 - PROGRESS: at 47.50% examples, 582752 words/s, in_qsize 5, out_qsize 0\n",
      "2021-05-07 11:19:53,057 : INFO : EPOCH 5 - PROGRESS: at 49.31% examples, 582827 words/s, in_qsize 6, out_qsize 0\n",
      "2021-05-07 11:19:54,087 : INFO : EPOCH 5 - PROGRESS: at 51.32% examples, 584084 words/s, in_qsize 0, out_qsize 0\n",
      "2021-05-07 11:19:55,116 : INFO : EPOCH 5 - PROGRESS: at 53.08% examples, 583160 words/s, in_qsize 1, out_qsize 0\n",
      "2021-05-07 11:19:56,125 : INFO : EPOCH 5 - PROGRESS: at 54.91% examples, 583353 words/s, in_qsize 2, out_qsize 0\n",
      "2021-05-07 11:19:57,127 : INFO : EPOCH 5 - PROGRESS: at 56.55% examples, 581515 words/s, in_qsize 0, out_qsize 0\n",
      "2021-05-07 11:19:58,143 : INFO : EPOCH 5 - PROGRESS: at 58.38% examples, 581596 words/s, in_qsize 3, out_qsize 0\n",
      "2021-05-07 11:19:59,156 : INFO : EPOCH 5 - PROGRESS: at 60.28% examples, 582541 words/s, in_qsize 0, out_qsize 0\n",
      "2021-05-07 11:20:00,168 : INFO : EPOCH 5 - PROGRESS: at 62.04% examples, 581416 words/s, in_qsize 4, out_qsize 0\n",
      "2021-05-07 11:20:01,181 : INFO : EPOCH 5 - PROGRESS: at 64.05% examples, 583552 words/s, in_qsize 0, out_qsize 0\n",
      "2021-05-07 11:20:02,193 : INFO : EPOCH 5 - PROGRESS: at 65.75% examples, 582446 words/s, in_qsize 2, out_qsize 2\n",
      "2021-05-07 11:20:03,217 : INFO : EPOCH 5 - PROGRESS: at 67.65% examples, 582954 words/s, in_qsize 0, out_qsize 2\n",
      "2021-05-07 11:20:04,245 : INFO : EPOCH 5 - PROGRESS: at 69.64% examples, 584098 words/s, in_qsize 0, out_qsize 0\n",
      "2021-05-07 11:20:05,250 : INFO : EPOCH 5 - PROGRESS: at 71.49% examples, 584319 words/s, in_qsize 0, out_qsize 0\n",
      "2021-05-07 11:20:06,281 : INFO : EPOCH 5 - PROGRESS: at 73.37% examples, 584379 words/s, in_qsize 0, out_qsize 1\n",
      "2021-05-07 11:20:07,318 : INFO : EPOCH 5 - PROGRESS: at 75.26% examples, 584402 words/s, in_qsize 1, out_qsize 1\n",
      "2021-05-07 11:20:08,340 : INFO : EPOCH 5 - PROGRESS: at 77.31% examples, 585894 words/s, in_qsize 0, out_qsize 0\n",
      "2021-05-07 11:20:09,395 : INFO : EPOCH 5 - PROGRESS: at 79.21% examples, 585791 words/s, in_qsize 0, out_qsize 2\n",
      "2021-05-07 11:20:10,408 : INFO : EPOCH 5 - PROGRESS: at 81.19% examples, 586890 words/s, in_qsize 0, out_qsize 0\n",
      "2021-05-07 11:20:11,437 : INFO : EPOCH 5 - PROGRESS: at 83.00% examples, 586553 words/s, in_qsize 3, out_qsize 1\n",
      "2021-05-07 11:20:12,441 : INFO : EPOCH 5 - PROGRESS: at 85.01% examples, 588091 words/s, in_qsize 0, out_qsize 0\n",
      "2021-05-07 11:20:13,449 : INFO : EPOCH 5 - PROGRESS: at 86.72% examples, 587198 words/s, in_qsize 0, out_qsize 0\n",
      "2021-05-07 11:20:14,451 : INFO : EPOCH 5 - PROGRESS: at 88.62% examples, 587563 words/s, in_qsize 0, out_qsize 0\n",
      "2021-05-07 11:20:15,464 : INFO : EPOCH 5 - PROGRESS: at 90.42% examples, 587400 words/s, in_qsize 0, out_qsize 0\n",
      "2021-05-07 11:20:16,494 : INFO : EPOCH 5 - PROGRESS: at 92.36% examples, 587951 words/s, in_qsize 0, out_qsize 0\n",
      "2021-05-07 11:20:17,538 : INFO : EPOCH 5 - PROGRESS: at 94.12% examples, 587252 words/s, in_qsize 1, out_qsize 2\n",
      "2021-05-07 11:20:18,572 : INFO : EPOCH 5 - PROGRESS: at 95.95% examples, 586860 words/s, in_qsize 1, out_qsize 3\n",
      "2021-05-07 11:20:19,605 : INFO : EPOCH 5 - PROGRESS: at 97.96% examples, 587692 words/s, in_qsize 0, out_qsize 2\n",
      "2021-05-07 11:20:20,629 : INFO : EPOCH 5 - PROGRESS: at 99.87% examples, 587864 words/s, in_qsize 0, out_qsize 0\n",
      "2021-05-07 11:20:20,661 : INFO : worker thread finished; awaiting finish of 9 more threads\n",
      "2021-05-07 11:20:20,664 : INFO : worker thread finished; awaiting finish of 8 more threads\n",
      "2021-05-07 11:20:20,664 : INFO : worker thread finished; awaiting finish of 7 more threads\n",
      "2021-05-07 11:20:20,665 : INFO : worker thread finished; awaiting finish of 6 more threads\n",
      "2021-05-07 11:20:20,666 : INFO : worker thread finished; awaiting finish of 5 more threads\n",
      "2021-05-07 11:20:20,667 : INFO : worker thread finished; awaiting finish of 4 more threads\n",
      "2021-05-07 11:20:20,669 : INFO : worker thread finished; awaiting finish of 3 more threads\n",
      "2021-05-07 11:20:20,670 : INFO : worker thread finished; awaiting finish of 2 more threads\n",
      "2021-05-07 11:20:20,685 : INFO : worker thread finished; awaiting finish of 1 more threads\n",
      "2021-05-07 11:20:20,687 : INFO : worker thread finished; awaiting finish of 0 more threads\n",
      "2021-05-07 11:20:20,688 : INFO : EPOCH - 5 : training on 35912536 raw words (32408656 effective words) took 55.1s, 587977 effective words/s\n",
      "2021-05-07 11:20:20,689 : INFO : Word2Vec lifecycle event {'msg': 'training on 179562680 raw words (162043280 effective words) took 278.6s, 581566 effective words/s', 'datetime': '2021-05-07T11:20:20.689491', 'gensim': '4.0.1', 'python': '3.8.8 (default, Feb 24 2021, 21:46:12) \\n[GCC 7.3.0]', 'platform': 'Linux-5.4.0-72-generic-x86_64-with-glibc2.10', 'event': 'train'}\n",
      "2021-05-07 11:20:20,690 : INFO : Word2Vec lifecycle event {'params': 'Word2Vec(vocab=166629, vector_size=100, alpha=0.025)', 'datetime': '2021-05-07T11:20:20.690192', 'gensim': '4.0.1', 'python': '3.8.8 (default, Feb 24 2021, 21:46:12) \\n[GCC 7.3.0]', 'platform': 'Linux-5.4.0-72-generic-x86_64-with-glibc2.10', 'event': 'created'}\n"
     ]
    }
   ],
   "source": [
    "w2v = Word2Vec(corpus.get_texts(), vector_size=100, window=10, min_count=10, workers=10, epochs=5)"
   ]
  },
  {
   "cell_type": "code",
   "execution_count": 67,
   "id": "induced-chrome",
   "metadata": {},
   "outputs": [
    {
     "name": "stderr",
     "output_type": "stream",
     "text": [
      "2021-04-20 14:09:12,071 : INFO : storing 149699x100 projection weights into NA.word2vec\n"
     ]
    }
   ],
   "source": [
    "w2v.wv.save_word2vec_format('NA.word2vec')"
   ]
  },
  {
   "cell_type": "code",
   "execution_count": 14,
   "metadata": {},
   "outputs": [
    {
     "output_type": "stream",
     "name": "stderr",
     "text": [
      "2021-05-07 11:24:13,832 : INFO : loading projection weights from NA.word2vec\n",
      "2021-05-07 11:24:26,548 : INFO : KeyedVectors lifecycle event {'msg': 'loaded (149699, 100) matrix of type float32 from NA.word2vec', 'binary': False, 'encoding': 'utf8', 'datetime': '2021-05-07T11:24:26.548396', 'gensim': '4.0.1', 'python': '3.8.8 (default, Feb 24 2021, 21:46:12) \\n[GCC 7.3.0]', 'platform': 'Linux-5.4.0-72-generic-x86_64-with-glibc2.10', 'event': 'load_word2vec_format'}\n"
     ]
    }
   ],
   "source": [
    "w2vkv = w2v.wv.load_word2vec_format('NA.word2vec')"
   ]
  },
  {
   "cell_type": "code",
   "execution_count": 28,
   "id": "understanding-burton",
   "metadata": {
    "scrolled": false
   },
   "outputs": [
    {
     "output_type": "stream",
     "name": "stdout",
     "text": [
      "schilderijtje | landschap | print | landschapje | schilderije | lantschap | landtschap | bortje | conterfeijtsel | lantschapje | lijstje | wintertje | kontrefeijtsel | schildery | batalie | afbeeltsel | kontrefeijtseltje | schilderijtgen | zeetje | schilderye | lijst | ebben | historie | kontrefeijtseltjens | ebbelijst | fruijtagie | ebbenlijst | rembrant | beeltje | schilderijtge | achtkant | taeffereel | lijsten | ovael | uijtbeeldende | bloempot | tronij | italiaens | contrefeijtsel | bortjens | diana | landschapjens | ebbe | spiegel | wouwerman | kintje | venus | schilderytgen | strantje | landtschapje | boere | schilderijtjens | offerhande | lantschapjens | lyst | holbeen | geselschapje | affbeeldinge | stilleven | printebortje | pourtrait | kaert | pleijster | signoor | watertje | zeestuckje | lijstjens | schilderijtie | scheepjens | schilderie | kontrefeijtsels | bataelje | samaritaen | vergulde | schilderje | beeltjens | blompot | schilderytje | grootstuck | printje | geberghte | maneschijntje | portrait | ruijsdael | wapenbort | historij | tronijtje | agar | achtkante | ebbenhoute | teijckeningh | albasterde | conterfeytsel | singende | contrefeijtsels | geschildert | verguldt | wapenbortje | beesjens | zeestuck | "
     ]
    }
   ],
   "source": [
    "for i in w2vkv.most_similar('schilderij', topn=100):\n",
    "    print(i[0], end=' | ')"
   ]
  },
  {
   "cell_type": "code",
   "execution_count": 32,
   "id": "medieval-ending",
   "metadata": {},
   "outputs": [
    {
     "output_type": "stream",
     "name": "stdout",
     "text": [
      "tuweelen | silverwerk | suweelen | juweelen | zilverwerk | zilver | sakhorologie | gond | huijsraad | kleederen | zilven | juweele | klijnodien | snuijfdoos | inboedel | paarlen | meubilen | potpenningen | kerkboek | ketting | spaarpot | horologie | zilvere | beugeltje | tasbeugel | coraalen | zelverwerk | ongemaakt | porcelijnen | peerlen | diamante | beslag | rijtuijgen | suwelen | kleedere | orlietten | geude | slotje | haakje | ongemaakte | menbelen | winkelwaaren | gouden | zilve | cieraad | meubelen | orleetten | ornamenten | boekje | silver | silvers | slootje | coralijne | zilder | ring | huijscieraad | huysraad | bootje | lijwaat | slootjes | vingerhoed | huisraad | oorringen | kleede | haak | selverwerk | kleeding | tobaksdoos | kettingge | eenpaar | liwaat | gespen | tasbengel | zelvere | orloge | rariteijten | gesp | eenzilvere | enkeld | huijsraat | huijsraed | diamanties | gout | lichaams | inboede | naalde | vorkje | agaat | juwele | snver | inweelen | diamanter | vork | dagelijkse | kleedern | waardig | haaken | kettingje | boud | tuwelen | "
     ]
    }
   ],
   "source": [
    "for i in w2vkv.most_similar('goud', topn=100):\n",
    "    print(i[0], end=' | ')"
   ]
  },
  {
   "cell_type": "code",
   "execution_count": 34,
   "metadata": {},
   "outputs": [
    {
     "output_type": "stream",
     "name": "stdout",
     "text": [
      "quarto | octaeff | martelaers | psalmboeck | psalm | octaaff | duodecimo | historien | boeckjens | figuren | volumina | catechismus | bybel | livius | predicatien | hooghduijts | historie | italiaens | octaef | bijbels | printen | oorlogen | boeckgens | boeckjes | sestienen | boeckjen | calvinus | ovidius | lanckwerpigh | gedichten | theologische | romeijnsche | psalmen | bijbel | uijtleggingh | erasmi | sacra | seneca | schatboeck | boecxkens | caert | opera | duijtsch | meteren | blat | bijbeltje | baudartius | postil | piscator | spiegeltgen | psalmboeckje | langhwerpige | bijbelse | geintituleert | historij | stuckgens | boeckje | biblia | octaaf | yvore | vondel | segrijn | oversettinge | bortgen | calvini | bouckgens | gedruckte | vierkante | segreijn | josephi | gebeede | beroerten | langhwerpich | slootjens | emmertgen | cijfferleij | formaet | papiere | print | atlas | gesnede | gelyste | luters | stuckjens | rondt | quarte | doosen | schildery | beslach | hoorens | caerten | udemans | tiene | calvin | ebbenhoute | kleerschuijer | rommelinge | oversettingh | cleermant | eijken | "
     ]
    }
   ],
   "source": [
    "for i in w2vkv.most_similar('octavo', topn=100):\n",
    "    print(i[0], end=' | ')"
   ]
  },
  {
   "cell_type": "code",
   "execution_count": 35,
   "metadata": {},
   "outputs": [
    {
     "output_type": "stream",
     "name": "stdout",
     "text": [
      "calvini | virgilius | opera | seneca | erasmi | livius | sacra | concordantie | dictionarium | evangelia | thesaurus | biblia | philippi | lipsius | ovidius | testamentum | logica | ciceronis | epistola | hemelsche | lexicon | catechismus | vijser | octaaf | libri | martelaersboeck | orationes | romanum | colloquia | historia | udemans | terentius | poemata | psalmos | tomus | secundus | bijbelse | annales | gedichten | caesar | practica | horatius | baudartius | kaertjens | cijfferleij | institutiones | octaaff | commentarius | ursinus | tractatus | duijtsch | rerum | epistolas | primus | tertius | grammatica | decimo | figuren | theologia | historie | lantschappie | theol | uijtleggingh | historij | printgen | titus | hagar | piscator | banckie | florus | marcktemmer | grotius | variorum | lugd | globen | annotatien | printje | oorlogen | venus | paus | quartus | mommers | octaeff | llijn | altaer | kaertje | bakermat | roosten | hooghduijts | dijcke | verheven | huijsboeck | spiegeltgen | dittoo | bloempotje | bierglas | houtje | prente | luijermantje | vuerenhoute | "
     ]
    }
   ],
   "source": [
    "for i in w2vkv.most_similar('vondel', topn=100):\n",
    "    print(i[0], end=' | ')"
   ]
  },
  {
   "cell_type": "code",
   "execution_count": 44,
   "metadata": {},
   "outputs": [
    {
     "output_type": "stream",
     "name": "stdout",
     "text": [
      "notans | notares | notars | nots | notais | nnotaris | notanis | notaais | notariis | notariss | otaris | nofaris | nodaris | notris | nolaris | nottaris | ntaris | notar | notari | notoris | notarisen | noharis | notaals | noteris | notalis | notario | notavis | noaris | notarie | nosaris | notarris | nnots | nors | nobaris | nataris | notarise | notauis | notaaris | notaus | norans | notse | notacis | notaxis | noto | notaars | notaiis | nott | nats | nolares | noos | notai | nooaris | nota | noth | notarit | dotaris | ots | mynotaris | notss | taais | notalio | notatis | notakis | nols | bots | noss | mijnotaris | notsen | nobs | netaris | notarts | notarioen | notsaris | nnotario | notariste | otario | notarist | notarig | mijnots | potaris | notarid | notariio | rots | noes | ntario | noraris | vots | notaria | nootaris | ris | jeard | nitaris | notas | notd | notaen | onderhandse | nord | notarios | notarisz | notarijo | "
     ]
    }
   ],
   "source": [
    "for i in w2vkv.most_similar('notaris', topn=100):\n",
    "    print(i[0], end=' | ')"
   ]
  },
  {
   "cell_type": "code",
   "execution_count": 45,
   "metadata": {},
   "outputs": [
    {
     "output_type": "stream",
     "name": "stdout",
     "text": [
      "houttuijnen | gragt | princegragt | kerkstraat | heeregragt | haarlemmer | voorburgwal | baangragt | brouwersgragt | nieuwendijk | warmoesstraat | steeg | breestraat | leijdse | gelderse | korte | reguliers | spiegelstraat | haarlemmerdijk | lindegragt | nieuwezijds | eingel | hoogstraat | kaaij | agterburgwal | vismarkt | niesel | brug | straat | armsteeg | kalverstraat | vinkestraat | korsjes | burgwal | reguliersgragt | heerestraat | vijselstraat | blomgragt | oudezijds | tuijnstraat | dwarsstraat | plijn | zeedijk | dwars | keijsersgragt | keijzersgragt | langestraat | molsteeg | botermarkt | droogbak | lingel | hoek | bruggetje | boomsloot | spiegelgragt | capelsteeg | baangraft | lelijstraat | weesper | braak | nieuwmarkt | kolk | achterburgwal | kerkhof | roosegragt | hoekje | dommerstraat | utrechtse | lelijgragt | cadijk | oudeschans | steegen | palmstraat | zijds | lauriergragt | blomstraat | weesperstraat | roobrug | lijdse | haarlemer | cattenburg | stormsteeg | laurier | westermarkt | princegraft | boomstraat | herberg | anjeliersgragt | nieuwstraat | appelmarkt | lelij | roosestraat | anjelierstraat | staaat | pad | noordzijde | bergstraat | korsjessteeg | princestraat | zuijdzijde | "
     ]
    }
   ],
   "source": [
    "for i in w2vkv.most_similar('cingel', topn=100):\n",
    "    print(i[0], end=' | ')"
   ]
  },
  {
   "cell_type": "code",
   "execution_count": 52,
   "metadata": {},
   "outputs": [
    {
     "output_type": "stream",
     "name": "stdout",
     "text": [
      "amsterd | sterdam | msterdam | asterdam | amst | amterdam | amsterda | amstedam | amstendam | amstrdam | amste | amsterdr | amserdam | ammsterdam | amsterdem | ams | aamsterdam | amsterdan | amsterdom | amssterdam | tamsterdam | amstterdam | tmsterdam | amsterdm | amster | amsterdamter | tamst | temsterdam | amstdam | amhterdam | amsteram | teamsterdam | amet | hterdam | amstr | amsterdamt | ansterdam | amsterdum | tamsterd | amsterdaam | amsterds | sterdan | tmst | amperdam | amtterdam | mst | aamst | amt | emsterdam | amsteldam | tamstm | amstm | amsterdaem | amstordam | amesterdam | aimst | amsterdt | amsterddam | camst | anst | amsterdim | amsteedam | serdam | tams | amsten | ameterdam | tamsterdem | tomst | amsterdame | amstldam | amseerdam | ast | amsterdamm | amstem | omsterdam | amstn | amoterdam | tanst | amstter | lamst | ammst | amsterdamme | amsteldom | amsterm | samsterdam | amstelredamme | amgterdam | amstmter | ainst | amssteldam | utsz | amsl | camsterdam | teamst | herdam | stendam | damsterdam | sterdem | presentibusutsz | terdam | "
     ]
    }
   ],
   "source": [
    "for i in w2vkv.most_similar('amsterdam', topn=100):\n",
    "    print(i[0], end=' | ')"
   ]
  },
  {
   "cell_type": "code",
   "execution_count": 53,
   "metadata": {},
   "outputs": [
    {
     "output_type": "stream",
     "name": "stdout",
     "text": [
      "londen | louden | franckfort | hamb | loudon | hondon | parijs | madrid | hamburg | dantsick | condon | bilbao | reval | brussel | lamotte | antwerpen | riga | merchants | true | giacomo | drouthem | spats | parys | johu | stoekholm | jointly | hamburgh | leipzigh | dantsich | coblents | assign | accept | stockholm | sterling | john | engeland | separately | sterl | henrij | peres | edward | oostende | venetien | engelandt | discreten | monst | benedict | coppens | curacas | pedro | andreas | cadiz | cola | cadix | leipzig | gio | dublin | rotterdam | fransisco | messt | weenen | revel | accepte | malo | behalf | middelb | coppenhagen | lawfull | mous | william | bremen | mors | lagerstont | ladix | pierre | rochel | merchant | philibert | williams | fraser | frankfort | herru | accepted | derso | juan | lararus | franckfurt | inhalt | geneve | hanburgh | herro | bilban | htont | unto | heurij | pounds | herri | liefman | mons | hemburgh | "
     ]
    }
   ],
   "source": [
    "for i in w2vkv.most_similar('london', topn=100):\n",
    "    print(i[0], end=' | ')"
   ]
  },
  {
   "cell_type": "code",
   "execution_count": 54,
   "metadata": {},
   "outputs": [
    {
     "output_type": "stream",
     "name": "stdout",
     "text": [
      "schp | ship | chip | schup | jacht | fluijtschip | schep | schi | sschip | schipde | schijp | scip | sclip | scrip | schipt | schijs | boeijerschip | smakschip | schipen | scheepje | galjoot | schiep | jaght | galliot | smalschip | schipe | schop | schrip | schipte | galjootschip | tschip | echip | sehip | smackschip | schips | veerschip | scp | hetschip | sohip | scheepgen | schrp | fregat | schipd | scrp | cchip | serp | vlie | galiot | lichter | wijtschip | scheep | scsip | kaegh | fort | schipden | fluijtscheepje | schio | beurtschip | kofschip | buijsschip | geseijlt | beurtman | fluytschip | texel | schis | gedestineert | schepe | schepje | recif | sloep | gecommandeert | cargasoen | eijlant | fregatt | kust | reciff | vaertuijgh | schipgenaemt | schipp | voorschip | tregat | tchip | damschuijt | scheepsvolck | schipper | schoet | schill | schin | westindien | boeijreep | schipgenaamt | sluijtschip | voorsschip | schiip | potschip | waterschip | scup | pernambucq | veroverde | sclup | "
     ]
    }
   ],
   "source": [
    "for i in w2vkv.most_similar('schip', topn=100):\n",
    "    print(i[0], end=' | ')"
   ]
  },
  {
   "cell_type": "code",
   "execution_count": 57,
   "metadata": {},
   "outputs": [
    {
     "output_type": "stream",
     "name": "stdout",
     "text": [
      "donderdag | dingsdag | woensdag | maandag | saturdag | zaturdag | maendag | sondag | zondag | vrijdagh | gepasseerde | maand | omstreek | laastleden | donderdagh | woonsdag | woensdagh | voorledene | dingsdagh | saturdagh | namiddag | maard | maends | voorleede | middag | saterdag | maendagh | vrydag | maandagh | avonds | laatstleden | maants | demiddag | laastl | smiddags | namiddags | savonds | voormiddags | laastleeden | middags | voorlede | maents | morgenstond | morgens | dinghsdagh | vrjdag | middagh | laastleede | voorleden | eergisteren | laastgepasseerde | zondagh | dingsdags | dinghdagh | omtrend | voormiddag | laastlede | sondagh | avond | voorgevallen | woens | zaturdagh | clokke | affirneert | omtren | nademiddagh | voormiddaghs | jaard | gisteren | maendts | woendag | elfden | klokke | dingedag | dinsdag | namiddagh | voordemiddag | omtrente | laestleeden | namid | ingegaen | nademiddags | laastledene | laastle | opdinghdagh | zaterdag | laastt | lopend | laastgep | voerleden | laestleden | saturdach | jongstleeden | avondt | savondts | gebeurt | getuigd | maendach | nademiddag | vrydagh | "
     ]
    }
   ],
   "source": [
    "for i in w2vkv.most_similar('vrijdag', topn=100):\n",
    "    print(i[0], end=' | ')"
   ]
  },
  {
   "cell_type": "code",
   "execution_count": null,
   "metadata": {},
   "outputs": [],
   "source": []
  }
 ],
 "metadata": {
  "kernelspec": {
   "name": "python388jvsc74a57bd09f004f191d0f84e0ff7f32410bfbb1abdb5fd5bb23224f477bd51bd88174fa8e",
   "display_name": "Python 3.8.8 64-bit ('base': conda)"
  },
  "language_info": {
   "codemirror_mode": {
    "name": "ipython",
    "version": 3
   },
   "file_extension": ".py",
   "mimetype": "text/x-python",
   "name": "python",
   "nbconvert_exporter": "python",
   "pygments_lexer": "ipython3",
   "version": "3.8.8"
  }
 },
 "nbformat": 4,
 "nbformat_minor": 5
}